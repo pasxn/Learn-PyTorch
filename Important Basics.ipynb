{
 "cells": [
  {
   "cell_type": "code",
   "execution_count": 83,
   "metadata": {},
   "outputs": [
    {
     "data": {
      "text/plain": [
       "'\\nThis Notebook contains some important basics you should learn before diving into Machine Learning with Torch\\n\\n- Tensors\\n- Derivatives\\n- Dataset\\n\\n'"
      ]
     },
     "execution_count": 83,
     "metadata": {},
     "output_type": "execute_result"
    }
   ],
   "source": [
    "# this notebook can be used to learn pyTorch\n",
    "'''\n",
    "This Notebook contains some important basics you should learn before diving into Machine Learning with Torch\n",
    "\n",
    "- Tensors\n",
    "- Derivatives\n",
    "- Dataset\n",
    "\n",
    "'''"
   ]
  },
  {
   "cell_type": "code",
   "execution_count": 56,
   "metadata": {},
   "outputs": [],
   "source": [
    "import torch\n",
    "import numpy as np\n",
    "import pandas as pd\n",
    "import matplotlib.pyplot as plt"
   ]
  },
  {
   "cell_type": "code",
   "execution_count": 2,
   "metadata": {},
   "outputs": [
    {
     "name": "stdout",
     "output_type": "stream",
     "text": [
      "tensor([7, 4, 3, 2, 6], dtype=torch.int32)\n",
      "tensor([0., 1., 2., 3., 4.])\n"
     ]
    }
   ],
   "source": [
    "# tensor and data types\n",
    "a = torch.tensor([7,4,3,2,6], dtype=torch.int32)\n",
    "b = torch.FloatTensor([0,1,2,3,4])\n",
    "print(a)\n",
    "print(b)"
   ]
  },
  {
   "cell_type": "code",
   "execution_count": 3,
   "metadata": {},
   "outputs": [
    {
     "name": "stdout",
     "output_type": "stream",
     "text": [
      "torch.int32\n"
     ]
    }
   ],
   "source": [
    "print(a.dtype)"
   ]
  },
  {
   "cell_type": "code",
   "execution_count": 4,
   "metadata": {},
   "outputs": [],
   "source": [
    "a = a.type(torch.FloatTensor)"
   ]
  },
  {
   "cell_type": "code",
   "execution_count": 5,
   "metadata": {},
   "outputs": [
    {
     "data": {
      "text/plain": [
       "torch.Size([5])"
      ]
     },
     "execution_count": 5,
     "metadata": {},
     "output_type": "execute_result"
    }
   ],
   "source": [
    "a.size()"
   ]
  },
  {
   "cell_type": "code",
   "execution_count": 6,
   "metadata": {},
   "outputs": [
    {
     "data": {
      "text/plain": [
       "torch.Size([5])"
      ]
     },
     "execution_count": 6,
     "metadata": {},
     "output_type": "execute_result"
    }
   ],
   "source": [
    "b.size()"
   ]
  },
  {
   "cell_type": "code",
   "execution_count": 8,
   "metadata": {},
   "outputs": [
    {
     "name": "stdout",
     "output_type": "stream",
     "text": [
      "tensor([1.0000, 2.3000, 4.0000, 5.0000])\n"
     ]
    }
   ],
   "source": [
    "c = [1,2.3,4,5]\n",
    "c = torch.tensor(c, dtype=torch.float32)\n",
    "print(c)"
   ]
  },
  {
   "cell_type": "code",
   "execution_count": 17,
   "metadata": {},
   "outputs": [
    {
     "name": "stdout",
     "output_type": "stream",
     "text": [
      "tensor([[7.],\n",
      "        [4.],\n",
      "        [3.],\n",
      "        [2.],\n",
      "        [6.]])\n",
      "tensor([[7.],\n",
      "        [4.],\n",
      "        [3.],\n",
      "        [2.],\n",
      "        [6.]])\n"
     ]
    }
   ],
   "source": [
    "# changing dimentions\n",
    "a_col = a.view(5,1)\n",
    "print(a_col)\n",
    "a_col = a.view(-1,1)\n",
    "print(a_col)"
   ]
  },
  {
   "cell_type": "code",
   "execution_count": 19,
   "metadata": {},
   "outputs": [
    {
     "name": "stdout",
     "output_type": "stream",
     "text": [
      "tensor([0, 1, 2, 3, 4, 5])\n",
      "tensor([[0],\n",
      "        [1],\n",
      "        [2],\n",
      "        [3],\n",
      "        [4],\n",
      "        [5]])\n",
      "tensor([[0, 1],\n",
      "        [2, 3],\n",
      "        [4, 5]])\n",
      "tensor([[0, 1, 2],\n",
      "        [3, 4, 5]])\n"
     ]
    }
   ],
   "source": [
    "d = torch.tensor([0,1,2,3,4,5])\n",
    "print(d)\n",
    "d = d.view(-1,1)\n",
    "print(d)\n",
    "d = d.view(-1,2)\n",
    "print(d)\n",
    "d = d.view(-1,3)\n",
    "print(d)"
   ]
  },
  {
   "cell_type": "code",
   "execution_count": 23,
   "metadata": {},
   "outputs": [
    {
     "name": "stdout",
     "output_type": "stream",
     "text": [
      "[1 2 3 4 5 6]\n",
      "tensor([1, 2, 3, 4, 5, 6])\n",
      "[1 2 3 4 5 6]\n"
     ]
    }
   ],
   "source": [
    "# converting a numpy array to a torch tensor and back and forth\n",
    "numpy_array = np.array([1,2,3,4,5,6])\n",
    "print(numpy_array)\n",
    "torch_tensor = torch.from_numpy(numpy_array)\n",
    "print(torch_tensor)\n",
    "back_to_numpy_array = torch_tensor.numpy()\n",
    "print(back_to_numpy_array)"
   ]
  },
  {
   "cell_type": "code",
   "execution_count": 25,
   "metadata": {},
   "outputs": [
    {
     "name": "stdout",
     "output_type": "stream",
     "text": [
      "tensor([0, 1, 2, 3, 4])\n",
      "[0, 1, 2, 3, 4]\n"
     ]
    }
   ],
   "source": [
    "# converting a pandas series to a torch tensor and back and forth\n",
    "pandas_series = pd.Series([0.1,2,0.3,10.1])\n",
    "pandas_to_torch = torch.from_numpy(pandas_series.values)\n",
    "\n",
    "# converting a tensor to a list\n",
    "this_tensor = torch.tensor([0,1,2,3,4])\n",
    "print(this_tensor)\n",
    "torch_to_list = this_tensor.tolist()\n",
    "print(torch_to_list)"
   ]
  },
  {
   "cell_type": "code",
   "execution_count": 34,
   "metadata": {},
   "outputs": [
    {
     "name": "stdout",
     "output_type": "stream",
     "text": [
      "tensor(0)\n",
      "torch.LongTensor\n"
     ]
    }
   ],
   "source": [
    "print(this_tensor[0])\n",
    "print(this_tensor[0].type())"
   ]
  },
  {
   "cell_type": "code",
   "execution_count": 37,
   "metadata": {},
   "outputs": [
    {
     "name": "stdout",
     "output_type": "stream",
     "text": [
      "tensor([23, 45,  6])\n",
      "tensor([458,  23,  45, 458, 123,   8])\n"
     ]
    }
   ],
   "source": [
    "# indexing and slising\n",
    "sls = torch.tensor([1,23,45,6,7,8])\n",
    "sls[0] = 458\n",
    "new = sls[1:4] # new is also a tensor\n",
    "print(new)\n",
    "sls[3:5] = torch.tensor([458,123])\n",
    "print(sls)"
   ]
  },
  {
   "cell_type": "code",
   "execution_count": 38,
   "metadata": {},
   "outputs": [
    {
     "name": "stdout",
     "output_type": "stream",
     "text": [
      "tensor([1, 1])\n"
     ]
    }
   ],
   "source": [
    "# basic operations\n",
    "u = torch.tensor([1,0])\n",
    "v = torch.tensor([0,1])\n",
    "z = u + v # vector addition\n",
    "print(z)"
   ]
  },
  {
   "cell_type": "code",
   "execution_count": 43,
   "metadata": {},
   "outputs": [
    {
     "name": "stdout",
     "output_type": "stream",
     "text": [
      "tensor([3, 3])\n",
      "tensor([0, 0])\n",
      "tensor(1)\n",
      "tensor([2, 2])\n"
     ]
    }
   ],
   "source": [
    "print(3*z)\n",
    "print(u*v)\n",
    "print(torch.dot(v,z))\n",
    "print(z+1)"
   ]
  },
  {
   "cell_type": "code",
   "execution_count": 50,
   "metadata": {},
   "outputs": [
    {
     "name": "stdout",
     "output_type": "stream",
     "text": [
      "tensor(0.)\n"
     ]
    }
   ],
   "source": [
    "a = torch.tensor([1,-1,1,-1])\n",
    "a = a.type(torch.FloatTensor)\n",
    "mean_a = a.mean()\n",
    "print(mean_a)"
   ]
  },
  {
   "cell_type": "code",
   "execution_count": 52,
   "metadata": {},
   "outputs": [
    {
     "name": "stdout",
     "output_type": "stream",
     "text": [
      "3.141592653589793\n",
      "tensor([0.0000, 1.5708, 3.1416])\n",
      "tensor([ 0.0000e+00,  1.0000e+00, -8.7423e-08])\n"
     ]
    }
   ],
   "source": [
    "# mathematical functions\n",
    "print(np.pi)\n",
    "x = torch.tensor([0,np.pi/2,np.pi])\n",
    "print(x)\n",
    "print(torch.sin(x))"
   ]
  },
  {
   "cell_type": "code",
   "execution_count": 64,
   "metadata": {},
   "outputs": [
    {
     "data": {
      "image/png": "[encoded data removed]",
      "text/plain": [
       "<Figure size 432x288 with 1 Axes>"
      ]
     },
     "metadata": {
      "needs_background": "light"
     },
     "output_type": "display_data"
    }
   ],
   "source": [
    "x = torch.linspace(0,2*np.pi, steps = 1000) # uses in plotting\n",
    "y = torch.sin(x)\n",
    "plt.plot(x.numpy(), y.numpy())\n",
    "plt.show()"
   ]
  },
  {
   "cell_type": "code",
   "execution_count": 65,
   "metadata": {},
   "outputs": [],
   "source": [
    "# two D tensors"
   ]
  },
  {
   "cell_type": "code",
   "execution_count": 74,
   "metadata": {},
   "outputs": [
    {
     "name": "stdout",
     "output_type": "stream",
     "text": [
      "tensor([[11, 12, 13],\n",
      "        [21, 22, 23],\n",
      "        [31, 32, 33]])\n"
     ]
    }
   ],
   "source": [
    "a = [[11,12,13],[21,22,23],[31,32,33]]\n",
    "a = torch.tensor(a)\n",
    "print(a)"
   ]
  },
  {
   "cell_type": "code",
   "execution_count": 75,
   "metadata": {},
   "outputs": [
    {
     "data": {
      "text/plain": [
       "2"
      ]
     },
     "execution_count": 75,
     "metadata": {},
     "output_type": "execute_result"
    }
   ],
   "source": [
    "a.ndimension()"
   ]
  },
  {
   "cell_type": "code",
   "execution_count": 76,
   "metadata": {},
   "outputs": [
    {
     "data": {
      "text/plain": [
       "torch.Size([3, 3])"
      ]
     },
     "execution_count": 76,
     "metadata": {},
     "output_type": "execute_result"
    }
   ],
   "source": [
    "a.shape"
   ]
  },
  {
   "cell_type": "code",
   "execution_count": 78,
   "metadata": {},
   "outputs": [
    {
     "data": {
      "text/plain": [
       "torch.Size([3, 3])"
      ]
     },
     "execution_count": 78,
     "metadata": {},
     "output_type": "execute_result"
    }
   ],
   "source": [
    "a.size()"
   ]
  },
  {
   "cell_type": "code",
   "execution_count": 79,
   "metadata": {},
   "outputs": [
    {
     "data": {
      "text/plain": [
       "9"
      ]
     },
     "execution_count": 79,
     "metadata": {},
     "output_type": "execute_result"
    }
   ],
   "source": [
    "a.numel()"
   ]
  },
  {
   "cell_type": "code",
   "execution_count": 80,
   "metadata": {},
   "outputs": [
    {
     "name": "stdout",
     "output_type": "stream",
     "text": [
      "tensor([11, 12])\n"
     ]
    }
   ],
   "source": [
    "b = a[0,0:2]\n",
    "print(b)"
   ]
  },
  {
   "cell_type": "code",
   "execution_count": 81,
   "metadata": {},
   "outputs": [],
   "source": [
    "# mathematical functions can be done as D tensors"
   ]
  },
  {
   "cell_type": "code",
   "execution_count": 82,
   "metadata": {},
   "outputs": [
    {
     "name": "stdout",
     "output_type": "stream",
     "text": [
      "tensor([[0, 2],\n",
      "        [0, 2]])\n"
     ]
    }
   ],
   "source": [
    "# matrix multiplication\n",
    "a = torch.tensor([[0,1,1],[1,0,1]])\n",
    "b = torch.tensor([[1,1],[1,1],[-1,1]])\n",
    "c = torch.mm(a,b)\n",
    "print(c)"
   ]
  },
  {
   "cell_type": "code",
   "execution_count": 85,
   "metadata": {},
   "outputs": [],
   "source": [
    "# Derivatives"
   ]
  },
  {
   "cell_type": "code",
   "execution_count": 92,
   "metadata": {},
   "outputs": [
    {
     "name": "stdout",
     "output_type": "stream",
     "text": [
      "tensor(4.)\n"
     ]
    }
   ],
   "source": [
    "# finding the derivative of a function\n",
    "x = torch.tensor(2,requires_grad=True,dtype = torch.float32)\n",
    "y = x**2\n",
    "y.backward()\n",
    "print(x.grad)"
   ]
  },
  {
   "cell_type": "code",
   "execution_count": 95,
   "metadata": {},
   "outputs": [
    {
     "name": "stdout",
     "output_type": "stream",
     "text": [
      "u:4.0 v:1.0\n"
     ]
    }
   ],
   "source": [
    "# partial derivatives\n",
    "u = torch.tensor(1, requires_grad = True, dtype = torch.float32)\n",
    "v = torch.tensor(2, requires_grad = True, dtype = torch.float32)\n",
    "\n",
    "f = u**2 + v*u\n",
    "f.backward()\n",
    "print(f\"u:{u.grad} v:{v.grad}\")"
   ]
  },
  {
   "cell_type": "code",
   "execution_count": null,
   "metadata": {},
   "outputs": [],
   "source": []
  }
 ],
 "metadata": {
  "kernelspec": {
   "display_name": "Python 3",
   "language": "python",
   "name": "python3"
  },
  "language_info": {
   "codemirror_mode": {
    "name": "ipython",
    "version": 3
   },
   "file_extension": ".py",
   "mimetype": "text/x-python",
   "name": "python",
   "nbconvert_exporter": "python",
   "pygments_lexer": "ipython3",
   "version": "3.8.5"
  }
 },
 "nbformat": 4,
 "nbformat_minor": 4
}
